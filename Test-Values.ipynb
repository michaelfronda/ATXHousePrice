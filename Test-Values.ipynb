{
 "cells": [
  {
   "cell_type": "code",
   "execution_count": 38,
   "id": "07a32543",
   "metadata": {},
   "outputs": [],
   "source": [
    "import requests\n",
    "\n",
    "house = {'zipcode': 78702.0,\n",
    " 'latitude': 30.2742328644,\n",
    " 'longitude': -97.7042999268,\n",
    " 'propertyTaxRate': 1.98,\n",
    " 'parkingSpaces': 1.0,\n",
    " 'yearBuilt': 2017.0,\n",
    " 'numPriceChanges': 5.0,\n",
    " 'latest_salemonth': 6.0,\n",
    " 'latest_saleyear': 2020.0,\n",
    " 'numOfPhotos': 74.0,\n",
    " 'numOfAppliances': 4.0,\n",
    " 'numOfParkingFeatures': 2.0,\n",
    " 'numOfPatioAndPorchFeatures': 1.0,\n",
    " 'numOfSecurityFeatures': 0.0,\n",
    " 'numOfWaterfrontFeatures': 0.0,\n",
    " 'numOfWindowFeatures': 0.0,\n",
    " 'lotSizeSqFt': 6969.0,\n",
    " 'livingAreaSqFt': 1944.0,\n",
    " 'numOfPrimarySchools': 1.0,\n",
    " 'numOfElementarySchools': 0.0,\n",
    " 'numOfMiddleSchools': 1.0,\n",
    " 'numOfHighSchools': 1.0,\n",
    " 'avgSchoolDistance': 0.9666666667,\n",
    " 'avgSchoolRating': 5.3333333333,\n",
    " 'avgSchoolSize': 679.0,\n",
    " 'MedianStudentsPerTeacher': 14.0,\n",
    " 'numOfBathrooms': 4.0,\n",
    " 'numOfBedrooms': 4.0,\n",
    " 'numOfStories': 2.0,\n",
    " 'location': -0.0283339697}"
   ]
  },
  {
   "cell_type": "code",
   "execution_count": 39,
   "id": "86aff79f",
   "metadata": {},
   "outputs": [
    {
     "name": "stdout",
     "output_type": "stream",
     "text": [
      "{'price': 611441.6145257086}\n"
     ]
    }
   ],
   "source": [
    "local = \"http://0.0.0.0:9696/predict\"  # local URL \n",
    "\n",
    "response_local = requests.post(local, json=house)\n",
    "\n",
    "# Print the prediction\n",
    "print(response_local.json())"
   ]
  },
  {
   "cell_type": "code",
   "execution_count": 35,
   "id": "93f430cf",
   "metadata": {},
   "outputs": [],
   "source": [
    "cloud = 'http://ahpp-env.eba-tymcjbic.us-east-1.elasticbeanstalk.com/' # cloud URL\n",
    "\n",
    "response_cloud = requests.post(cloud, json=house)\n",
    "\n",
    "# Print the prediction\n",
    "print(response_cloud.json())"
   ]
  }
 ],
 "metadata": {
  "kernelspec": {
   "display_name": "Python 3 (ipykernel)",
   "language": "python",
   "name": "python3"
  },
  "language_info": {
   "codemirror_mode": {
    "name": "ipython",
    "version": 3
   },
   "file_extension": ".py",
   "mimetype": "text/x-python",
   "name": "python",
   "nbconvert_exporter": "python",
   "pygments_lexer": "ipython3",
   "version": "3.11.5"
  }
 },
 "nbformat": 4,
 "nbformat_minor": 5
}
